{
 "cells": [
  {
   "cell_type": "code",
   "execution_count": null,
   "id": "0e7b2857",
   "metadata": {},
   "outputs": [],
   "source": [
    "#https://www.reddit.com/r/adventofcode/comments/rnejv5/2021_day_24_solutions/hpshymr/"
   ]
  },
  {
   "cell_type": "code",
   "execution_count": 4,
   "id": "58a2848d",
   "metadata": {},
   "outputs": [
    {
     "name": "stdout",
     "output_type": "stream",
     "text": [
      "Collecting z3-solver\n",
      "  Downloading z3_solver-4.8.14.0-py2.py3-none-win_amd64.whl (35.6 MB)\n",
      "Installing collected packages: z3-solver\n",
      "Successfully installed z3-solver-4.8.14.0\n"
     ]
    }
   ],
   "source": [
    "import z3"
   ]
  },
  {
   "cell_type": "code",
   "execution_count": 2,
   "id": "5d0eaaac",
   "metadata": {},
   "outputs": [
    {
     "name": "stdout",
     "output_type": "stream",
     "text": [
      "sat\n",
      "59998426997979\n",
      "sat\n",
      "13621111481315\n"
     ]
    }
   ],
   "source": [
    "prog = []\n",
    "\n",
    "with open('input.txt', 'r') as f: \n",
    "\n",
    "    for line in f: \n",
    "        prog.append(line.split())\n",
    "\n",
    "    solver = z3.Optimize()\n",
    "\n",
    "    digits = [z3.BitVec(f'd_{i}', 64) for i in range(14)] \n",
    "\n",
    "    for d in digits: \n",
    "        solver.add(1 <= d) \n",
    "        solver.add(d <= 9) \n",
    "        digit_input = iter(digits)\n",
    "\n",
    "    zero, one = z3.BitVecVal(0, 64), z3.BitVecVal(1, 64)\n",
    "\n",
    "    registers = {r: zero for r in 'xyzw'}\n",
    "\n",
    "    for i, inst in enumerate(prog): \n",
    "        if inst[0] == 'inp': \n",
    "            registers[inst[1]] = next(digit_input) \n",
    "            continue \n",
    "        a, b = inst[1:] \n",
    "        b = registers[b] if b in registers else int(b) \n",
    "        c = z3.BitVec(f'v{i}', 64) \n",
    "        if inst[0] == 'add': solver.add(c == registers[a] + b) \n",
    "        elif inst[0] == 'mul': solver.add(c == registers[a] * b) \n",
    "        elif inst[0] == 'mod': \n",
    "            solver.add(registers[a] >= 0) \n",
    "            solver.add(b > 0) \n",
    "            solver.add(c == registers[a] % b) \n",
    "        elif inst[0] == 'div': \n",
    "            solver.add(b != 0) \n",
    "            solver.add(c == registers[a] / b) \n",
    "        elif inst[0] == 'eql': solver.add(c == z3.If(registers[a] == b, one, zero)) \n",
    "        else: \n",
    "            assert False \n",
    "        registers[a] = c\n",
    "\n",
    "    solver.add(registers['z'] == 0)\n",
    "\n",
    "    for f in (solver.maximize, solver.minimize): \n",
    "        solver.push() \n",
    "        f(sum((10 ** i) * d for i, d in enumerate(digits[::-1]))) \n",
    "        print(solver.check()) \n",
    "        m = solver.model() \n",
    "        print(''.join([str(m[d]) for d in digits])) \n",
    "        solver.pop()"
   ]
  },
  {
   "cell_type": "code",
   "execution_count": null,
   "id": "df4eceff",
   "metadata": {},
   "outputs": [],
   "source": []
  },
  {
   "cell_type": "code",
   "execution_count": null,
   "id": "af49185f",
   "metadata": {},
   "outputs": [],
   "source": []
  },
  {
   "cell_type": "code",
   "execution_count": null,
   "id": "cccf9d11",
   "metadata": {},
   "outputs": [],
   "source": []
  }
 ],
 "metadata": {
  "kernelspec": {
   "display_name": "Python 3",
   "language": "python",
   "name": "python3"
  },
  "language_info": {
   "codemirror_mode": {
    "name": "ipython",
    "version": 3
   },
   "file_extension": ".py",
   "mimetype": "text/x-python",
   "name": "python",
   "nbconvert_exporter": "python",
   "pygments_lexer": "ipython3",
   "version": "3.8.10"
  }
 },
 "nbformat": 4,
 "nbformat_minor": 5
}
